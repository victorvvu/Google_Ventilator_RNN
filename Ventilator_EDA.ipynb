{
 "cells": [
  {
   "cell_type": "code",
   "execution_count": 2,
   "metadata": {},
   "outputs": [],
   "source": [
    "import pandas as pd\n",
    "import numpy as np\n",
    "import matplotlib.pyplot as plt\n",
    "import seaborn as sns"
   ]
  },
  {
   "cell_type": "code",
   "execution_count": 3,
   "metadata": {},
   "outputs": [],
   "source": [
    "df = pd.read_csv(r'C:\\Users\\victo\\Desktop\\kaggle\\google_vent\\train.csv')\n",
    "#data_test = pd.read_csv(r'C:\\Users\\victo\\Desktop\\kaggle\\google_vent\\test.csv')"
   ]
  },
  {
   "cell_type": "markdown",
   "metadata": {},
   "source": [
    "## EDA"
   ]
  },
  {
   "cell_type": "code",
   "execution_count": 3,
   "metadata": {},
   "outputs": [],
   "source": [
    "#When u_out == 1 / u_in is high, then pressure increases"
   ]
  },
  {
   "cell_type": "code",
   "execution_count": 4,
   "metadata": {},
   "outputs": [
    {
     "data": {
      "text/plain": [
       "0"
      ]
     },
     "execution_count": 4,
     "metadata": {},
     "output_type": "execute_result"
    }
   ],
   "source": [
    "#Check for nulls\n",
    "df.isnull().sum().sum()"
   ]
  },
  {
   "cell_type": "code",
   "execution_count": 5,
   "metadata": {},
   "outputs": [
    {
     "data": {
      "text/plain": [
       "id           6036000\n",
       "breath_id      75450\n",
       "R                  3\n",
       "C                  3\n",
       "time_step    3767571\n",
       "u_in         4020248\n",
       "u_out              2\n",
       "pressure         950\n",
       "dtype: int64"
      ]
     },
     "execution_count": 5,
     "metadata": {},
     "output_type": "execute_result"
    }
   ],
   "source": [
    "#number of unique values\n",
    "df.nunique(axis=0)\n",
    "#75k breathes recorded "
   ]
  },
  {
   "cell_type": "code",
   "execution_count": 6,
   "metadata": {},
   "outputs": [
    {
     "data": {
      "text/html": [
       "<div>\n",
       "<style scoped>\n",
       "    .dataframe tbody tr th:only-of-type {\n",
       "        vertical-align: middle;\n",
       "    }\n",
       "\n",
       "    .dataframe tbody tr th {\n",
       "        vertical-align: top;\n",
       "    }\n",
       "\n",
       "    .dataframe thead th {\n",
       "        text-align: right;\n",
       "    }\n",
       "</style>\n",
       "<table border=\"1\" class=\"dataframe\">\n",
       "  <thead>\n",
       "    <tr style=\"text-align: right;\">\n",
       "      <th></th>\n",
       "      <th>id</th>\n",
       "      <th>breath_id</th>\n",
       "      <th>R</th>\n",
       "      <th>C</th>\n",
       "      <th>time_step</th>\n",
       "      <th>u_in</th>\n",
       "      <th>u_out</th>\n",
       "      <th>pressure</th>\n",
       "    </tr>\n",
       "  </thead>\n",
       "  <tbody>\n",
       "    <tr>\n",
       "      <th>count</th>\n",
       "      <td>6.036000e+06</td>\n",
       "      <td>6.036000e+06</td>\n",
       "      <td>6.036000e+06</td>\n",
       "      <td>6.036000e+06</td>\n",
       "      <td>6.036000e+06</td>\n",
       "      <td>6.036000e+06</td>\n",
       "      <td>6.036000e+06</td>\n",
       "      <td>6.036000e+06</td>\n",
       "    </tr>\n",
       "    <tr>\n",
       "      <th>mean</th>\n",
       "      <td>3.018000e+06</td>\n",
       "      <td>6.283886e+04</td>\n",
       "      <td>2.703618e+01</td>\n",
       "      <td>2.608072e+01</td>\n",
       "      <td>1.307225e+00</td>\n",
       "      <td>7.321615e+00</td>\n",
       "      <td>6.204493e-01</td>\n",
       "      <td>1.122041e+01</td>\n",
       "    </tr>\n",
       "    <tr>\n",
       "      <th>std</th>\n",
       "      <td>1.742443e+06</td>\n",
       "      <td>3.633526e+04</td>\n",
       "      <td>1.959549e+01</td>\n",
       "      <td>1.715231e+01</td>\n",
       "      <td>7.659778e-01</td>\n",
       "      <td>1.343470e+01</td>\n",
       "      <td>4.852752e-01</td>\n",
       "      <td>8.109703e+00</td>\n",
       "    </tr>\n",
       "    <tr>\n",
       "      <th>min</th>\n",
       "      <td>1.000000e+00</td>\n",
       "      <td>1.000000e+00</td>\n",
       "      <td>5.000000e+00</td>\n",
       "      <td>1.000000e+01</td>\n",
       "      <td>0.000000e+00</td>\n",
       "      <td>0.000000e+00</td>\n",
       "      <td>0.000000e+00</td>\n",
       "      <td>-1.895744e+00</td>\n",
       "    </tr>\n",
       "    <tr>\n",
       "      <th>25%</th>\n",
       "      <td>1.509001e+06</td>\n",
       "      <td>3.137700e+04</td>\n",
       "      <td>5.000000e+00</td>\n",
       "      <td>1.000000e+01</td>\n",
       "      <td>6.428995e-01</td>\n",
       "      <td>3.936623e-01</td>\n",
       "      <td>0.000000e+00</td>\n",
       "      <td>6.329607e+00</td>\n",
       "    </tr>\n",
       "    <tr>\n",
       "      <th>50%</th>\n",
       "      <td>3.018000e+06</td>\n",
       "      <td>6.276550e+04</td>\n",
       "      <td>2.000000e+01</td>\n",
       "      <td>2.000000e+01</td>\n",
       "      <td>1.308123e+00</td>\n",
       "      <td>4.386146e+00</td>\n",
       "      <td>1.000000e+00</td>\n",
       "      <td>7.032628e+00</td>\n",
       "    </tr>\n",
       "    <tr>\n",
       "      <th>75%</th>\n",
       "      <td>4.527000e+06</td>\n",
       "      <td>9.430100e+04</td>\n",
       "      <td>5.000000e+01</td>\n",
       "      <td>5.000000e+01</td>\n",
       "      <td>1.965502e+00</td>\n",
       "      <td>4.983895e+00</td>\n",
       "      <td>1.000000e+00</td>\n",
       "      <td>1.364103e+01</td>\n",
       "    </tr>\n",
       "    <tr>\n",
       "      <th>max</th>\n",
       "      <td>6.036000e+06</td>\n",
       "      <td>1.257490e+05</td>\n",
       "      <td>5.000000e+01</td>\n",
       "      <td>5.000000e+01</td>\n",
       "      <td>2.937238e+00</td>\n",
       "      <td>1.000000e+02</td>\n",
       "      <td>1.000000e+00</td>\n",
       "      <td>6.482099e+01</td>\n",
       "    </tr>\n",
       "  </tbody>\n",
       "</table>\n",
       "</div>"
      ],
      "text/plain": [
       "                 id     breath_id             R             C     time_step  \\\n",
       "count  6.036000e+06  6.036000e+06  6.036000e+06  6.036000e+06  6.036000e+06   \n",
       "mean   3.018000e+06  6.283886e+04  2.703618e+01  2.608072e+01  1.307225e+00   \n",
       "std    1.742443e+06  3.633526e+04  1.959549e+01  1.715231e+01  7.659778e-01   \n",
       "min    1.000000e+00  1.000000e+00  5.000000e+00  1.000000e+01  0.000000e+00   \n",
       "25%    1.509001e+06  3.137700e+04  5.000000e+00  1.000000e+01  6.428995e-01   \n",
       "50%    3.018000e+06  6.276550e+04  2.000000e+01  2.000000e+01  1.308123e+00   \n",
       "75%    4.527000e+06  9.430100e+04  5.000000e+01  5.000000e+01  1.965502e+00   \n",
       "max    6.036000e+06  1.257490e+05  5.000000e+01  5.000000e+01  2.937238e+00   \n",
       "\n",
       "               u_in         u_out      pressure  \n",
       "count  6.036000e+06  6.036000e+06  6.036000e+06  \n",
       "mean   7.321615e+00  6.204493e-01  1.122041e+01  \n",
       "std    1.343470e+01  4.852752e-01  8.109703e+00  \n",
       "min    0.000000e+00  0.000000e+00 -1.895744e+00  \n",
       "25%    3.936623e-01  0.000000e+00  6.329607e+00  \n",
       "50%    4.386146e+00  1.000000e+00  7.032628e+00  \n",
       "75%    4.983895e+00  1.000000e+00  1.364103e+01  \n",
       "max    1.000000e+02  1.000000e+00  6.482099e+01  "
      ]
     },
     "execution_count": 6,
     "metadata": {},
     "output_type": "execute_result"
    }
   ],
   "source": [
    "#longest breath recorded 3 seconds\n",
    "df.describe()"
   ]
  },
  {
   "cell_type": "code",
   "execution_count": 7,
   "metadata": {},
   "outputs": [
    {
     "data": {
      "text/html": [
       "<div>\n",
       "<style scoped>\n",
       "    .dataframe tbody tr th:only-of-type {\n",
       "        vertical-align: middle;\n",
       "    }\n",
       "\n",
       "    .dataframe tbody tr th {\n",
       "        vertical-align: top;\n",
       "    }\n",
       "\n",
       "    .dataframe thead th {\n",
       "        text-align: right;\n",
       "    }\n",
       "</style>\n",
       "<table border=\"1\" class=\"dataframe\">\n",
       "  <thead>\n",
       "    <tr style=\"text-align: right;\">\n",
       "      <th></th>\n",
       "      <th>id</th>\n",
       "      <th>breath_id</th>\n",
       "      <th>R</th>\n",
       "      <th>C</th>\n",
       "      <th>time_step</th>\n",
       "      <th>u_in</th>\n",
       "      <th>u_out</th>\n",
       "      <th>pressure</th>\n",
       "    </tr>\n",
       "  </thead>\n",
       "  <tbody>\n",
       "    <tr>\n",
       "      <th>count</th>\n",
       "      <td>2.290968e+06</td>\n",
       "      <td>2.290968e+06</td>\n",
       "      <td>2.290968e+06</td>\n",
       "      <td>2.290968e+06</td>\n",
       "      <td>2.290968e+06</td>\n",
       "      <td>2.290968e+06</td>\n",
       "      <td>2290968.0</td>\n",
       "      <td>2.290968e+06</td>\n",
       "    </tr>\n",
       "    <tr>\n",
       "      <th>mean</th>\n",
       "      <td>3.018199e+06</td>\n",
       "      <td>6.284351e+04</td>\n",
       "      <td>2.722644e+01</td>\n",
       "      <td>2.599915e+01</td>\n",
       "      <td>4.853702e-01</td>\n",
       "      <td>1.448415e+01</td>\n",
       "      <td>0.0</td>\n",
       "      <td>1.759621e+01</td>\n",
       "    </tr>\n",
       "    <tr>\n",
       "      <th>std</th>\n",
       "      <td>1.742406e+06</td>\n",
       "      <td>3.633448e+04</td>\n",
       "      <td>1.964032e+01</td>\n",
       "      <td>1.710772e+01</td>\n",
       "      <td>2.897151e-01</td>\n",
       "      <td>1.942718e+01</td>\n",
       "      <td>0.0</td>\n",
       "      <td>9.247859e+00</td>\n",
       "    </tr>\n",
       "    <tr>\n",
       "      <th>min</th>\n",
       "      <td>1.000000e+00</td>\n",
       "      <td>1.000000e+00</td>\n",
       "      <td>5.000000e+00</td>\n",
       "      <td>1.000000e+01</td>\n",
       "      <td>0.000000e+00</td>\n",
       "      <td>0.000000e+00</td>\n",
       "      <td>0.0</td>\n",
       "      <td>-1.895744e+00</td>\n",
       "    </tr>\n",
       "    <tr>\n",
       "      <th>25%</th>\n",
       "      <td>1.509128e+06</td>\n",
       "      <td>3.137900e+04</td>\n",
       "      <td>5.000000e+00</td>\n",
       "      <td>1.000000e+01</td>\n",
       "      <td>2.364761e-01</td>\n",
       "      <td>2.054897e+00</td>\n",
       "      <td>0.0</td>\n",
       "      <td>9.915016e+00</td>\n",
       "    </tr>\n",
       "    <tr>\n",
       "      <th>50%</th>\n",
       "      <td>3.018254e+06</td>\n",
       "      <td>6.276900e+04</td>\n",
       "      <td>2.000000e+01</td>\n",
       "      <td>2.000000e+01</td>\n",
       "      <td>4.814563e-01</td>\n",
       "      <td>7.327242e+00</td>\n",
       "      <td>0.0</td>\n",
       "      <td>1.582040e+01</td>\n",
       "    </tr>\n",
       "    <tr>\n",
       "      <th>75%</th>\n",
       "      <td>4.527383e+06</td>\n",
       "      <td>9.431000e+04</td>\n",
       "      <td>5.000000e+01</td>\n",
       "      <td>5.000000e+01</td>\n",
       "      <td>7.353599e-01</td>\n",
       "      <td>1.812542e+01</td>\n",
       "      <td>0.0</td>\n",
       "      <td>2.397545e+01</td>\n",
       "    </tr>\n",
       "    <tr>\n",
       "      <th>max</th>\n",
       "      <td>6.035950e+06</td>\n",
       "      <td>1.257490e+05</td>\n",
       "      <td>5.000000e+01</td>\n",
       "      <td>5.000000e+01</td>\n",
       "      <td>9.997981e-01</td>\n",
       "      <td>1.000000e+02</td>\n",
       "      <td>0.0</td>\n",
       "      <td>6.482099e+01</td>\n",
       "    </tr>\n",
       "  </tbody>\n",
       "</table>\n",
       "</div>"
      ],
      "text/plain": [
       "                 id     breath_id             R             C     time_step  \\\n",
       "count  2.290968e+06  2.290968e+06  2.290968e+06  2.290968e+06  2.290968e+06   \n",
       "mean   3.018199e+06  6.284351e+04  2.722644e+01  2.599915e+01  4.853702e-01   \n",
       "std    1.742406e+06  3.633448e+04  1.964032e+01  1.710772e+01  2.897151e-01   \n",
       "min    1.000000e+00  1.000000e+00  5.000000e+00  1.000000e+01  0.000000e+00   \n",
       "25%    1.509128e+06  3.137900e+04  5.000000e+00  1.000000e+01  2.364761e-01   \n",
       "50%    3.018254e+06  6.276900e+04  2.000000e+01  2.000000e+01  4.814563e-01   \n",
       "75%    4.527383e+06  9.431000e+04  5.000000e+01  5.000000e+01  7.353599e-01   \n",
       "max    6.035950e+06  1.257490e+05  5.000000e+01  5.000000e+01  9.997981e-01   \n",
       "\n",
       "               u_in      u_out      pressure  \n",
       "count  2.290968e+06  2290968.0  2.290968e+06  \n",
       "mean   1.448415e+01        0.0  1.759621e+01  \n",
       "std    1.942718e+01        0.0  9.247859e+00  \n",
       "min    0.000000e+00        0.0 -1.895744e+00  \n",
       "25%    2.054897e+00        0.0  9.915016e+00  \n",
       "50%    7.327242e+00        0.0  1.582040e+01  \n",
       "75%    1.812542e+01        0.0  2.397545e+01  \n",
       "max    1.000000e+02        0.0  6.482099e+01  "
      ]
     },
     "execution_count": 7,
     "metadata": {},
     "output_type": "execute_result"
    }
   ],
   "source": [
    "#Can see that when selenoid is closed --> increases in pressure make\n",
    "#time_step does not exceed 1 second when selenoid is closed\n",
    "df.loc[df.u_out == 0].describe()"
   ]
  },
  {
   "cell_type": "code",
   "execution_count": 8,
   "metadata": {},
   "outputs": [
    {
     "data": {
      "text/html": [
       "<div>\n",
       "<style scoped>\n",
       "    .dataframe tbody tr th:only-of-type {\n",
       "        vertical-align: middle;\n",
       "    }\n",
       "\n",
       "    .dataframe tbody tr th {\n",
       "        vertical-align: top;\n",
       "    }\n",
       "\n",
       "    .dataframe thead th {\n",
       "        text-align: right;\n",
       "    }\n",
       "</style>\n",
       "<table border=\"1\" class=\"dataframe\">\n",
       "  <thead>\n",
       "    <tr style=\"text-align: right;\">\n",
       "      <th></th>\n",
       "      <th>id</th>\n",
       "      <th>breath_id</th>\n",
       "      <th>R</th>\n",
       "      <th>C</th>\n",
       "      <th>time_step</th>\n",
       "      <th>u_in</th>\n",
       "      <th>u_out</th>\n",
       "      <th>pressure</th>\n",
       "    </tr>\n",
       "  </thead>\n",
       "  <tbody>\n",
       "    <tr>\n",
       "      <th>count</th>\n",
       "      <td>3.745032e+06</td>\n",
       "      <td>3.745032e+06</td>\n",
       "      <td>3.745032e+06</td>\n",
       "      <td>3.745032e+06</td>\n",
       "      <td>3.745032e+06</td>\n",
       "      <td>3.745032e+06</td>\n",
       "      <td>3745032.0</td>\n",
       "      <td>3.745032e+06</td>\n",
       "    </tr>\n",
       "    <tr>\n",
       "      <th>mean</th>\n",
       "      <td>3.017879e+06</td>\n",
       "      <td>6.283601e+04</td>\n",
       "      <td>2.691980e+01</td>\n",
       "      <td>2.613062e+01</td>\n",
       "      <td>1.809982e+00</td>\n",
       "      <td>2.940038e+00</td>\n",
       "      <td>1.0</td>\n",
       "      <td>7.320105e+00</td>\n",
       "    </tr>\n",
       "    <tr>\n",
       "      <th>std</th>\n",
       "      <td>1.742466e+06</td>\n",
       "      <td>3.633574e+04</td>\n",
       "      <td>1.956711e+01</td>\n",
       "      <td>1.717935e+01</td>\n",
       "      <td>4.778452e-01</td>\n",
       "      <td>3.073173e+00</td>\n",
       "      <td>0.0</td>\n",
       "      <td>3.688112e+00</td>\n",
       "    </tr>\n",
       "    <tr>\n",
       "      <th>min</th>\n",
       "      <td>3.100000e+01</td>\n",
       "      <td>1.000000e+00</td>\n",
       "      <td>5.000000e+00</td>\n",
       "      <td>1.000000e+01</td>\n",
       "      <td>8.227286e-01</td>\n",
       "      <td>0.000000e+00</td>\n",
       "      <td>1.0</td>\n",
       "      <td>-1.895744e+00</td>\n",
       "    </tr>\n",
       "    <tr>\n",
       "      <th>25%</th>\n",
       "      <td>1.508932e+06</td>\n",
       "      <td>3.137600e+04</td>\n",
       "      <td>5.000000e+00</td>\n",
       "      <td>1.000000e+01</td>\n",
       "      <td>1.396291e+00</td>\n",
       "      <td>0.000000e+00</td>\n",
       "      <td>1.0</td>\n",
       "      <td>6.118700e+00</td>\n",
       "    </tr>\n",
       "    <tr>\n",
       "      <th>50%</th>\n",
       "      <td>3.017838e+06</td>\n",
       "      <td>6.276200e+04</td>\n",
       "      <td>2.000000e+01</td>\n",
       "      <td>2.000000e+01</td>\n",
       "      <td>1.803938e+00</td>\n",
       "      <td>3.784317e+00</td>\n",
       "      <td>1.0</td>\n",
       "      <td>6.540513e+00</td>\n",
       "    </tr>\n",
       "    <tr>\n",
       "      <th>75%</th>\n",
       "      <td>4.526768e+06</td>\n",
       "      <td>9.429600e+04</td>\n",
       "      <td>5.000000e+01</td>\n",
       "      <td>5.000000e+01</td>\n",
       "      <td>2.215368e+00</td>\n",
       "      <td>4.862406e+00</td>\n",
       "      <td>1.0</td>\n",
       "      <td>7.102930e+00</td>\n",
       "    </tr>\n",
       "    <tr>\n",
       "      <th>max</th>\n",
       "      <td>6.036000e+06</td>\n",
       "      <td>1.257490e+05</td>\n",
       "      <td>5.000000e+01</td>\n",
       "      <td>5.000000e+01</td>\n",
       "      <td>2.937238e+00</td>\n",
       "      <td>1.000000e+02</td>\n",
       "      <td>1.0</td>\n",
       "      <td>5.462718e+01</td>\n",
       "    </tr>\n",
       "  </tbody>\n",
       "</table>\n",
       "</div>"
      ],
      "text/plain": [
       "                 id     breath_id             R             C     time_step  \\\n",
       "count  3.745032e+06  3.745032e+06  3.745032e+06  3.745032e+06  3.745032e+06   \n",
       "mean   3.017879e+06  6.283601e+04  2.691980e+01  2.613062e+01  1.809982e+00   \n",
       "std    1.742466e+06  3.633574e+04  1.956711e+01  1.717935e+01  4.778452e-01   \n",
       "min    3.100000e+01  1.000000e+00  5.000000e+00  1.000000e+01  8.227286e-01   \n",
       "25%    1.508932e+06  3.137600e+04  5.000000e+00  1.000000e+01  1.396291e+00   \n",
       "50%    3.017838e+06  6.276200e+04  2.000000e+01  2.000000e+01  1.803938e+00   \n",
       "75%    4.526768e+06  9.429600e+04  5.000000e+01  5.000000e+01  2.215368e+00   \n",
       "max    6.036000e+06  1.257490e+05  5.000000e+01  5.000000e+01  2.937238e+00   \n",
       "\n",
       "               u_in      u_out      pressure  \n",
       "count  3.745032e+06  3745032.0  3.745032e+06  \n",
       "mean   2.940038e+00        1.0  7.320105e+00  \n",
       "std    3.073173e+00        0.0  3.688112e+00  \n",
       "min    0.000000e+00        1.0 -1.895744e+00  \n",
       "25%    0.000000e+00        1.0  6.118700e+00  \n",
       "50%    3.784317e+00        1.0  6.540513e+00  \n",
       "75%    4.862406e+00        1.0  7.102930e+00  \n",
       "max    1.000000e+02        1.0  5.462718e+01  "
      ]
     },
     "execution_count": 8,
     "metadata": {},
     "output_type": "execute_result"
    }
   ],
   "source": [
    "#Can see that when selenoid is open --> increases in pressure make \n",
    "#seems like selenoid is open \n",
    "df.loc[df.u_out == 1].describe()"
   ]
  },
  {
   "cell_type": "code",
   "execution_count": 36,
   "metadata": {},
   "outputs": [
    {
     "data": {
      "text/plain": [
       "Text(0.5, 1.0, 'Distribution of Pressure')"
      ]
     },
     "execution_count": 36,
     "metadata": {},
     "output_type": "execute_result"
    },
    {
     "data": {
      "image/png": "[encoded data removed]",
      "text/plain": [
       "<Figure size 432x288 with 1 Axes>"
      ]
     },
     "metadata": {
      "needs_background": "light"
     },
     "output_type": "display_data"
    }
   ],
   "source": [
    "sns.histplot(data=df, x=\"pressure\", bins = 10)\n",
    "plt.title('Distribution of Pressure')"
   ]
  },
  {
   "cell_type": "code",
   "execution_count": 37,
   "metadata": {},
   "outputs": [
    {
     "data": {
      "text/plain": [
       "Text(0.5, 1.0, 'Distribution of Pressure 2')"
      ]
     },
     "execution_count": 37,
     "metadata": {},
     "output_type": "execute_result"
    },
    {
     "data": {
      "image/png": "[encoded data removed]",
      "text/plain": [
       "<Figure size 432x288 with 1 Axes>"
      ]
     },
     "metadata": {
      "needs_background": "light"
     },
     "output_type": "display_data"
    }
   ],
   "source": [
    "sns.histplot(data=df, x=\"pressure\", bins = 15, hue = 'u_out')\n",
    "plt.title('Distribution of Pressure 2')"
   ]
  },
  {
   "cell_type": "code",
   "execution_count": 26,
   "metadata": {},
   "outputs": [
    {
     "data": {
      "text/plain": [
       "<AxesSubplot:title={'center':'Pearson Correlation'}>"
      ]
     },
     "execution_count": 26,
     "metadata": {},
     "output_type": "execute_result"
    },
    {
     "data": {
      "image/png": "[encoded data removed]",
      "text/plain": [
       "<Figure size 864x864 with 2 Axes>"
      ]
     },
     "metadata": {
      "needs_background": "light"
     },
     "output_type": "display_data"
    }
   ],
   "source": [
    "#None of the variables have a strong correlation with pressure (target value)\n",
    "plt.figure(figsize=(12,12))\n",
    "plt.title('Pearson Correlation', y=1.05, size=15)\n",
    "labels = df.iloc[:,2:].columns.values\n",
    "sns.heatmap(df.iloc[:,2:].corr().values,linewidths=0.1,vmax=1.0,square=True, linecolor='black',\n",
    "            annot=True,xticklabels=labels,yticklabels=labels)"
   ]
  },
  {
   "cell_type": "code",
   "execution_count": 38,
   "metadata": {},
   "outputs": [],
   "source": [
    "sample = df.loc[df.breath_id==5]"
   ]
  },
  {
   "cell_type": "code",
   "execution_count": 32,
   "metadata": {},
   "outputs": [
    {
     "data": {
      "image/png": "[encoded data removed]",
      "text/plain": [
       "<Figure size 864x216 with 1 Axes>"
      ]
     },
     "metadata": {
      "needs_background": "light"
     },
     "output_type": "display_data"
    },
    {
     "data": {
      "image/png": "[encoded data removed]",
      "text/plain": [
       "<Figure size 864x216 with 1 Axes>"
      ]
     },
     "metadata": {
      "needs_background": "light"
     },
     "output_type": "display_data"
    },
    {
     "data": {
      "image/png": "[encoded data removed]",
      "text/plain": [
       "<Figure size 864x216 with 1 Axes>"
      ]
     },
     "metadata": {
      "needs_background": "light"
     },
     "output_type": "display_data"
    }
   ],
   "source": [
    "sample.plot(x=\"time_step\", y=\"u_in\", kind='line',figsize=(12,3), lw=2, title=\"u_in\");\n",
    "sample.plot(x=\"time_step\", y=\"u_out\", kind='line',figsize=(12,3), lw=2, title=\"u_out\");\n",
    "sample.plot(x=\"time_step\", y=\"pressure\", kind='line',figsize=(12,3), lw=2, title=\"pressure\");"
   ]
  },
  {
   "cell_type": "code",
   "execution_count": 39,
   "metadata": {},
   "outputs": [],
   "source": [
    "def feat_engine(data):\n",
    "    #features used by kagglers\n",
    "    #https://www.kaggle.com/tenffe/finetune-of-tensorflow-bidirectional-lstm\n",
    "    df = data.copy()\n",
    "    df['area'] = df['time_step'] * df['u_in']\n",
    "    df['area'] = df.groupby('breath_id')['area'].cumsum()\n",
    "    df['u_in_cumsum'] = (df['u_in']).groupby(df['breath_id']).cumsum()\n",
    "    df['u_in_lag1'] = df.groupby('breath_id')['u_in'].shift(1)\n",
    "    df['u_out_lag1'] = df.groupby('breath_id')['u_out'].shift(1)\n",
    "    df['u_in_lag_back1'] = df.groupby('breath_id')['u_in'].shift(-1)\n",
    "    df['u_out_lag_back1'] = df.groupby('breath_id')['u_out'].shift(-1)\n",
    "    df['u_in_lag2'] = df.groupby('breath_id')['u_in'].shift(2)\n",
    "    df['u_out_lag2'] = df.groupby('breath_id')['u_out'].shift(2)\n",
    "    df['u_in_lag_back2'] = df.groupby('breath_id')['u_in'].shift(-2)\n",
    "    df['u_out_lag_back2'] = df.groupby('breath_id')['u_out'].shift(-2)\n",
    "    df['u_in_lag3'] = df.groupby('breath_id')['u_in'].shift(3)\n",
    "    df['u_out_lag3'] = df.groupby('breath_id')['u_out'].shift(3)\n",
    "    df['u_in_lag_back3'] = df.groupby('breath_id')['u_in'].shift(-3)\n",
    "    df['u_out_lag_back3'] = df.groupby('breath_id')['u_out'].shift(-3)\n",
    "    df['u_in_lag4'] = df.groupby('breath_id')['u_in'].shift(4)\n",
    "    df['u_out_lag4'] = df.groupby('breath_id')['u_out'].shift(4)\n",
    "    df['u_in_lag_back4'] = df.groupby('breath_id')['u_in'].shift(-4)\n",
    "    df['u_out_lag_back4'] = df.groupby('breath_id')['u_out'].shift(-4)\n",
    "    df = df.fillna(0)\n",
    "    df['breath_id__u_in__max'] = df.groupby(['breath_id'])['u_in'].transform('max')\n",
    "    df['breath_id__u_out__max'] = df.groupby(['breath_id'])['u_out'].transform('max')\n",
    "    df['u_in_diff1'] = df['u_in'] - df['u_in_lag1']\n",
    "    df['u_out_diff1'] = df['u_out'] - df['u_out_lag1']\n",
    "    df['u_in_diff2'] = df['u_in'] - df['u_in_lag2']\n",
    "    df['u_out_diff2'] = df['u_out'] - df['u_out_lag2']\n",
    "    df['breath_id__u_in__diffmax'] = df.groupby(['breath_id'])['u_in'].transform('max') - df['u_in']\n",
    "    df['breath_id__u_in__diffmean'] = df.groupby(['breath_id'])['u_in'].transform('mean') - df['u_in']\n",
    "    df['breath_id__u_in__diffmax'] = df.groupby(['breath_id'])['u_in'].transform('max') - df['u_in']\n",
    "    df['breath_id__u_in__diffmean'] = df.groupby(['breath_id'])['u_in'].transform('mean') - df['u_in']\n",
    "    df['u_in_diff3'] = df['u_in'] - df['u_in_lag3']\n",
    "    df['u_out_diff3'] = df['u_out'] - df['u_out_lag3']\n",
    "    df['u_in_diff4'] = df['u_in'] - df['u_in_lag4']\n",
    "    df['u_out_diff4'] = df['u_out'] - df['u_out_lag4']\n",
    "    df['cross']= df['u_in']*df['u_out']\n",
    "    df['cross2']= df['time_step']*df['u_out']\n",
    "    df['R'] = df['R'].astype(str)\n",
    "    df['C'] = df['C'].astype(str)\n",
    "    df['R__C'] = df[\"R\"].astype(str) + '__' + df[\"C\"].astype(str)\n",
    "    df = pd.get_dummies(df)\n",
    "    return df\n"
   ]
  },
  {
   "cell_type": "code",
   "execution_count": 40,
   "metadata": {},
   "outputs": [],
   "source": [
    "train_data = feat_engine(df)"
   ]
  },
  {
   "cell_type": "code",
   "execution_count": 41,
   "metadata": {},
   "outputs": [
    {
     "data": {
      "text/html": [
       "<div>\n",
       "<style scoped>\n",
       "    .dataframe tbody tr th:only-of-type {\n",
       "        vertical-align: middle;\n",
       "    }\n",
       "\n",
       "    .dataframe tbody tr th {\n",
       "        vertical-align: top;\n",
       "    }\n",
       "\n",
       "    .dataframe thead th {\n",
       "        text-align: right;\n",
       "    }\n",
       "</style>\n",
       "<table border=\"1\" class=\"dataframe\">\n",
       "  <thead>\n",
       "    <tr style=\"text-align: right;\">\n",
       "      <th></th>\n",
       "      <th>id</th>\n",
       "      <th>breath_id</th>\n",
       "      <th>time_step</th>\n",
       "      <th>u_in</th>\n",
       "      <th>u_out</th>\n",
       "      <th>pressure</th>\n",
       "      <th>area</th>\n",
       "      <th>u_in_cumsum</th>\n",
       "      <th>u_in_lag1</th>\n",
       "      <th>u_out_lag1</th>\n",
       "      <th>...</th>\n",
       "      <th>C_50</th>\n",
       "      <th>R__C_20__10</th>\n",
       "      <th>R__C_20__20</th>\n",
       "      <th>R__C_20__50</th>\n",
       "      <th>R__C_50__10</th>\n",
       "      <th>R__C_50__20</th>\n",
       "      <th>R__C_50__50</th>\n",
       "      <th>R__C_5__10</th>\n",
       "      <th>R__C_5__20</th>\n",
       "      <th>R__C_5__50</th>\n",
       "    </tr>\n",
       "  </thead>\n",
       "  <tbody>\n",
       "    <tr>\n",
       "      <th>0</th>\n",
       "      <td>1</td>\n",
       "      <td>1</td>\n",
       "      <td>0.000000</td>\n",
       "      <td>0.083334</td>\n",
       "      <td>0</td>\n",
       "      <td>5.837492</td>\n",
       "      <td>0.000000</td>\n",
       "      <td>0.083334</td>\n",
       "      <td>0.000000</td>\n",
       "      <td>0.0</td>\n",
       "      <td>...</td>\n",
       "      <td>1</td>\n",
       "      <td>0</td>\n",
       "      <td>0</td>\n",
       "      <td>1</td>\n",
       "      <td>0</td>\n",
       "      <td>0</td>\n",
       "      <td>0</td>\n",
       "      <td>0</td>\n",
       "      <td>0</td>\n",
       "      <td>0</td>\n",
       "    </tr>\n",
       "    <tr>\n",
       "      <th>1</th>\n",
       "      <td>2</td>\n",
       "      <td>1</td>\n",
       "      <td>0.033652</td>\n",
       "      <td>18.383041</td>\n",
       "      <td>0</td>\n",
       "      <td>5.907794</td>\n",
       "      <td>0.618632</td>\n",
       "      <td>18.466375</td>\n",
       "      <td>0.083334</td>\n",
       "      <td>0.0</td>\n",
       "      <td>...</td>\n",
       "      <td>1</td>\n",
       "      <td>0</td>\n",
       "      <td>0</td>\n",
       "      <td>1</td>\n",
       "      <td>0</td>\n",
       "      <td>0</td>\n",
       "      <td>0</td>\n",
       "      <td>0</td>\n",
       "      <td>0</td>\n",
       "      <td>0</td>\n",
       "    </tr>\n",
       "    <tr>\n",
       "      <th>2</th>\n",
       "      <td>3</td>\n",
       "      <td>1</td>\n",
       "      <td>0.067514</td>\n",
       "      <td>22.509278</td>\n",
       "      <td>0</td>\n",
       "      <td>7.876254</td>\n",
       "      <td>2.138333</td>\n",
       "      <td>40.975653</td>\n",
       "      <td>18.383041</td>\n",
       "      <td>0.0</td>\n",
       "      <td>...</td>\n",
       "      <td>1</td>\n",
       "      <td>0</td>\n",
       "      <td>0</td>\n",
       "      <td>1</td>\n",
       "      <td>0</td>\n",
       "      <td>0</td>\n",
       "      <td>0</td>\n",
       "      <td>0</td>\n",
       "      <td>0</td>\n",
       "      <td>0</td>\n",
       "    </tr>\n",
       "    <tr>\n",
       "      <th>3</th>\n",
       "      <td>4</td>\n",
       "      <td>1</td>\n",
       "      <td>0.101542</td>\n",
       "      <td>22.808822</td>\n",
       "      <td>0</td>\n",
       "      <td>11.742872</td>\n",
       "      <td>4.454391</td>\n",
       "      <td>63.784476</td>\n",
       "      <td>22.509278</td>\n",
       "      <td>0.0</td>\n",
       "      <td>...</td>\n",
       "      <td>1</td>\n",
       "      <td>0</td>\n",
       "      <td>0</td>\n",
       "      <td>1</td>\n",
       "      <td>0</td>\n",
       "      <td>0</td>\n",
       "      <td>0</td>\n",
       "      <td>0</td>\n",
       "      <td>0</td>\n",
       "      <td>0</td>\n",
       "    </tr>\n",
       "    <tr>\n",
       "      <th>4</th>\n",
       "      <td>5</td>\n",
       "      <td>1</td>\n",
       "      <td>0.135756</td>\n",
       "      <td>25.355850</td>\n",
       "      <td>0</td>\n",
       "      <td>12.234987</td>\n",
       "      <td>7.896588</td>\n",
       "      <td>89.140326</td>\n",
       "      <td>22.808822</td>\n",
       "      <td>0.0</td>\n",
       "      <td>...</td>\n",
       "      <td>1</td>\n",
       "      <td>0</td>\n",
       "      <td>0</td>\n",
       "      <td>1</td>\n",
       "      <td>0</td>\n",
       "      <td>0</td>\n",
       "      <td>0</td>\n",
       "      <td>0</td>\n",
       "      <td>0</td>\n",
       "      <td>0</td>\n",
       "    </tr>\n",
       "  </tbody>\n",
       "</table>\n",
       "<p>5 rows × 53 columns</p>\n",
       "</div>"
      ],
      "text/plain": [
       "   id  breath_id  time_step       u_in  u_out   pressure      area  \\\n",
       "0   1          1   0.000000   0.083334      0   5.837492  0.000000   \n",
       "1   2          1   0.033652  18.383041      0   5.907794  0.618632   \n",
       "2   3          1   0.067514  22.509278      0   7.876254  2.138333   \n",
       "3   4          1   0.101542  22.808822      0  11.742872  4.454391   \n",
       "4   5          1   0.135756  25.355850      0  12.234987  7.896588   \n",
       "\n",
       "   u_in_cumsum  u_in_lag1  u_out_lag1  ...  C_50  R__C_20__10  R__C_20__20  \\\n",
       "0     0.083334   0.000000         0.0  ...     1            0            0   \n",
       "1    18.466375   0.083334         0.0  ...     1            0            0   \n",
       "2    40.975653  18.383041         0.0  ...     1            0            0   \n",
       "3    63.784476  22.509278         0.0  ...     1            0            0   \n",
       "4    89.140326  22.808822         0.0  ...     1            0            0   \n",
       "\n",
       "   R__C_20__50  R__C_50__10  R__C_50__20  R__C_50__50  R__C_5__10  R__C_5__20  \\\n",
       "0            1            0            0            0           0           0   \n",
       "1            1            0            0            0           0           0   \n",
       "2            1            0            0            0           0           0   \n",
       "3            1            0            0            0           0           0   \n",
       "4            1            0            0            0           0           0   \n",
       "\n",
       "   R__C_5__50  \n",
       "0           0  \n",
       "1           0  \n",
       "2           0  \n",
       "3           0  \n",
       "4           0  \n",
       "\n",
       "[5 rows x 53 columns]"
      ]
     },
     "execution_count": 41,
     "metadata": {},
     "output_type": "execute_result"
    }
   ],
   "source": [
    "train_data.head()"
   ]
  }
 ],
 "metadata": {
  "kernelspec": {
   "display_name": "Python 3",
   "language": "python",
   "name": "python3"
  },
  "language_info": {
   "codemirror_mode": {
    "name": "ipython",
    "version": 3
   },
   "file_extension": ".py",
   "mimetype": "text/x-python",
   "name": "python",
   "nbconvert_exporter": "python",
   "pygments_lexer": "ipython3",
   "version": "3.8.5"
  }
 },
 "nbformat": 4,
 "nbformat_minor": 4
}
